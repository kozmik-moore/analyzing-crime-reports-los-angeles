{
 "cells": [
  {
   "cell_type": "markdown",
   "id": "65556606-0b0a-4d6a-92ed-ca2b5527dc62",
   "metadata": {},
   "source": [
    "# Analyzing Crime in Los Angeles"
   ]
  },
  {
   "cell_type": "markdown",
   "id": "31ab2131-3049-4d8d-b9dc-d195f72af27a",
   "metadata": {},
   "source": [
    "![Los Angeles skyline](la_skyline.jpg)\n",
    "\n",
    "# Description\n",
    "\n",
    "Los Angeles, California 😎. The City of Angels. Tinseltown. The Entertainment Capital of the World! \n",
    "\n",
    "Known for its warm weather, palm trees, sprawling coastline, and Hollywood, along with producing some of the most iconic films and songs. However, as with any highly populated city, it isn't always glamorous and there can be a large volume of crime.\n",
    "\n",
    "I am analyzing data provided by the Los Angeles Police Department (LAPD) to identify patterns in criminal behavior. Such an analysis could be used to allocate resources effectively to tackle various crimes in different areas.\n",
    "\n",
    "# The Data\n",
    "\n",
    "This single dataset, `crimes.csv`, is a modified version of the original data, which is publicly available from Los Angeles Open Data.\n",
    "\n",
    "## Column values\n",
    "\n",
    "| Column     | Description              |\n",
    "|------------|--------------------------|\n",
    "| `'DR_NO'` | Division of Records Number: Official file number made up of a 2-digit year, area ID, and 5 digits. |\n",
    "| `'Date Rptd'` | Date reported - MM/DD/YYYY. |\n",
    "| `'DATE OCC'` | Date of occurrence - MM/DD/YYYY. |\n",
    "| `'TIME OCC'` | In 24-hour military time. |\n",
    "| `'AREA NAME'` | The 21 Geographic Areas or Patrol Divisions are also given a name designation that references a landmark or the surrounding community that it is responsible for. For example, the 77th Street Division is located at the intersection of South Broadway and 77th Street, serving neighborhoods in South Los Angeles. |\n",
    "| `'Crm Cd Desc'` | Indicates the crime committed. |\n",
    "| `'Vict Age'` | Victim's age in years. |\n",
    "| `'Vict Sex'` | Victim's sex: `F`: Female, `M`: Male, `X`: Unknown. |\n",
    "| `'Vict Descent'` | Victim's descent:<ul><li>`A` - Other Asian</li><li>`B` - Black</li><li>`C` - Chinese</li><li>`D` - Cambodian</li><li>`F` - Filipino</li><li>`G` - Guamanian</li><li>`H` - Hispanic/Latin/Mexican</li><li>`I` - American Indian/Alaskan Native</li><li>`J` - Japanese</li><li>`K` - Korean</li><li>`L` - Laotian</li><li>`O` - Other</li><li>`P` - Pacific Islander</li><li>`S` - Samoan</li><li>`U` - Hawaiian</li><li>`V` - Vietnamese</li><li>`W` - White</li><li>`X` - Unknown</li><li>`Z` - Asian Indian</li> |\n",
    "| `'Weapon Desc'` | Description of the weapon used (if applicable). |\n",
    "| `'Status Desc'` | Crime status. |\n",
    "| `'LOCATION'` | Street address of the crime. |"
   ]
  },
  {
   "cell_type": "markdown",
   "id": "3ae027e1-70c3-4db7-afbe-c1e59796088b",
   "metadata": {},
   "source": [
    "## Set up environment/get data"
   ]
  },
  {
   "cell_type": "markdown",
   "id": "27ef83a4-8afa-49ad-8444-b88b357bb5f8",
   "metadata": {},
   "source": [
    "### Import Python Modules"
   ]
  },
  {
   "cell_type": "code",
   "execution_count": 1,
   "id": "5410361d",
   "metadata": {},
   "outputs": [],
   "source": [
    "# Add the project root to sys.path\n",
    "import sys\n",
    "import os\n",
    "sys.path.append(os.path.abspath(\"..\"))"
   ]
  },
  {
   "cell_type": "code",
   "execution_count": 2,
   "id": "7c6c3c36-5c8b-4cce-8681-95292b8f0861",
   "metadata": {
    "executionCancelledAt": null,
    "executionTime": 434,
    "lastExecutedAt": 1694637748340,
    "lastScheduledRunId": null,
    "lastSuccessfullyExecutedCode": "# Re-run this cell\n# Import required libraries\nimport pandas as pd\nimport numpy as np\nimport matplotlib.pyplot as plt\nimport seaborn as sns\ncrimes = pd.read_csv(\"crimes.csv\", parse_dates=[\"Date Rptd\", \"DATE OCC\"], dtype={\"TIME OCC\": str})\ncrimes.head()",
    "outputsMetadata": {
     "0": {
      "height": 50,
      "tableState": {
       "customFilter": {
        "const": {
         "type": "boolean",
         "valid": true,
         "value": true
        },
        "id": "010c6ae0-8bc2-4742-8efd-1aa078149efa",
        "nodeType": "const"
       }
      },
      "type": "dataFrame"
     }
    }
   },
   "outputs": [],
   "source": [
    "import pandas as pd\n",
    "import numpy as np\n",
    "import matplotlib.pyplot as plt\n",
    "import seaborn as sns\n",
    "import re\n",
    "from IPython.display import HTML\n",
    "from projectconfig.config import raw_data_path, crime_desc_table_new, crime_desc_table_orig, victim_sex_table"
   ]
  },
  {
   "cell_type": "markdown",
   "id": "f43b0ca3-30a5-4e9f-9908-c9a07f71e699",
   "metadata": {},
   "source": [
    "### Import data"
   ]
  },
  {
   "cell_type": "markdown",
   "id": "f890182b",
   "metadata": {},
   "source": [
    "### Get and set helper values"
   ]
  },
  {
   "cell_type": "code",
   "execution_count": 3,
   "id": "849ebb5f",
   "metadata": {},
   "outputs": [],
   "source": [
    "default_rows = pd.get_option('display.max_rows')"
   ]
  },
  {
   "cell_type": "code",
   "execution_count": 4,
   "id": "bf060af9-f0cf-4e5a-8027-70a9fefc1a96",
   "metadata": {},
   "outputs": [
    {
     "data": {
      "text/html": [
       "<div>\n",
       "<style scoped>\n",
       "    .dataframe tbody tr th:only-of-type {\n",
       "        vertical-align: middle;\n",
       "    }\n",
       "\n",
       "    .dataframe tbody tr th {\n",
       "        vertical-align: top;\n",
       "    }\n",
       "\n",
       "    .dataframe thead th {\n",
       "        text-align: right;\n",
       "    }\n",
       "</style>\n",
       "<table border=\"1\" class=\"dataframe\">\n",
       "  <thead>\n",
       "    <tr style=\"text-align: right;\">\n",
       "      <th></th>\n",
       "      <th>DR_NO</th>\n",
       "      <th>Date Rptd</th>\n",
       "      <th>DATE OCC</th>\n",
       "      <th>TIME OCC</th>\n",
       "      <th>AREA NAME</th>\n",
       "      <th>Crm Cd Desc</th>\n",
       "      <th>Vict Age</th>\n",
       "      <th>Vict Sex</th>\n",
       "      <th>Vict Descent</th>\n",
       "      <th>Weapon Desc</th>\n",
       "      <th>Status Desc</th>\n",
       "      <th>LOCATION</th>\n",
       "    </tr>\n",
       "  </thead>\n",
       "  <tbody>\n",
       "    <tr>\n",
       "      <th>0</th>\n",
       "      <td>221412410</td>\n",
       "      <td>2022-06-15</td>\n",
       "      <td>2020-11-12</td>\n",
       "      <td>1700</td>\n",
       "      <td>Pacific</td>\n",
       "      <td>THEFT FROM MOTOR VEHICLE - PETTY ($950 &amp; UNDER)</td>\n",
       "      <td>0</td>\n",
       "      <td>NaN</td>\n",
       "      <td>NaN</td>\n",
       "      <td>NaN</td>\n",
       "      <td>Invest Cont</td>\n",
       "      <td>13600    MARINA POINT                 DR</td>\n",
       "    </tr>\n",
       "    <tr>\n",
       "      <th>1</th>\n",
       "      <td>220314085</td>\n",
       "      <td>2022-07-22</td>\n",
       "      <td>2020-05-12</td>\n",
       "      <td>1110</td>\n",
       "      <td>Southwest</td>\n",
       "      <td>THEFT OF IDENTITY</td>\n",
       "      <td>27</td>\n",
       "      <td>F</td>\n",
       "      <td>B</td>\n",
       "      <td>NaN</td>\n",
       "      <td>Invest Cont</td>\n",
       "      <td>2500 S  SYCAMORE                     AV</td>\n",
       "    </tr>\n",
       "    <tr>\n",
       "      <th>2</th>\n",
       "      <td>222013040</td>\n",
       "      <td>2022-08-06</td>\n",
       "      <td>2020-06-04</td>\n",
       "      <td>1620</td>\n",
       "      <td>Olympic</td>\n",
       "      <td>THEFT OF IDENTITY</td>\n",
       "      <td>60</td>\n",
       "      <td>M</td>\n",
       "      <td>H</td>\n",
       "      <td>NaN</td>\n",
       "      <td>Invest Cont</td>\n",
       "      <td>3300    SAN MARINO                   ST</td>\n",
       "    </tr>\n",
       "    <tr>\n",
       "      <th>3</th>\n",
       "      <td>220614831</td>\n",
       "      <td>2022-08-18</td>\n",
       "      <td>2020-08-17</td>\n",
       "      <td>1200</td>\n",
       "      <td>Hollywood</td>\n",
       "      <td>THEFT OF IDENTITY</td>\n",
       "      <td>28</td>\n",
       "      <td>M</td>\n",
       "      <td>H</td>\n",
       "      <td>NaN</td>\n",
       "      <td>Invest Cont</td>\n",
       "      <td>1900    TRANSIENT</td>\n",
       "    </tr>\n",
       "    <tr>\n",
       "      <th>4</th>\n",
       "      <td>231207725</td>\n",
       "      <td>2023-02-27</td>\n",
       "      <td>2020-01-27</td>\n",
       "      <td>0635</td>\n",
       "      <td>77th Street</td>\n",
       "      <td>THEFT OF IDENTITY</td>\n",
       "      <td>37</td>\n",
       "      <td>M</td>\n",
       "      <td>H</td>\n",
       "      <td>NaN</td>\n",
       "      <td>Invest Cont</td>\n",
       "      <td>6200    4TH                          AV</td>\n",
       "    </tr>\n",
       "  </tbody>\n",
       "</table>\n",
       "</div>"
      ],
      "text/plain": [
       "       DR_NO   Date Rptd    DATE OCC TIME OCC    AREA NAME  \\\n",
       "0  221412410  2022-06-15  2020-11-12     1700      Pacific   \n",
       "1  220314085  2022-07-22  2020-05-12     1110    Southwest   \n",
       "2  222013040  2022-08-06  2020-06-04     1620      Olympic   \n",
       "3  220614831  2022-08-18  2020-08-17     1200    Hollywood   \n",
       "4  231207725  2023-02-27  2020-01-27     0635  77th Street   \n",
       "\n",
       "                                       Crm Cd Desc  Vict Age Vict Sex  \\\n",
       "0  THEFT FROM MOTOR VEHICLE - PETTY ($950 & UNDER)         0      NaN   \n",
       "1                                THEFT OF IDENTITY        27        F   \n",
       "2                                THEFT OF IDENTITY        60        M   \n",
       "3                                THEFT OF IDENTITY        28        M   \n",
       "4                                THEFT OF IDENTITY        37        M   \n",
       "\n",
       "  Vict Descent Weapon Desc  Status Desc  \\\n",
       "0          NaN         NaN  Invest Cont   \n",
       "1            B         NaN  Invest Cont   \n",
       "2            H         NaN  Invest Cont   \n",
       "3            H         NaN  Invest Cont   \n",
       "4            H         NaN  Invest Cont   \n",
       "\n",
       "                                   LOCATION  \n",
       "0  13600    MARINA POINT                 DR  \n",
       "1   2500 S  SYCAMORE                     AV  \n",
       "2   3300    SAN MARINO                   ST  \n",
       "3                         1900    TRANSIENT  \n",
       "4   6200    4TH                          AV  "
      ]
     },
     "execution_count": 4,
     "metadata": {},
     "output_type": "execute_result"
    }
   ],
   "source": [
    "crimes = pd.read_csv(raw_data_path, date_format='%m/%d/%Y %I:%M:%S %p', parse_dates=[\"Date Rptd\", \"DATE OCC\"], dtype={\"TIME OCC\": str})\n",
    "crimes.head()"
   ]
  },
  {
   "cell_type": "markdown",
   "id": "c228ec81-f7c4-4d3b-95f1-3cbe11d42aa7",
   "metadata": {},
   "source": [
    "# Data cleaning"
   ]
  },
  {
   "cell_type": "markdown",
   "id": "b8052886-61df-4bd8-85dc-3e4b184895ff",
   "metadata": {},
   "source": [
    "##### *Rename columns*"
   ]
  },
  {
   "cell_type": "code",
   "execution_count": 5,
   "id": "45468734-42c2-4dc0-aff0-045babdeeff8",
   "metadata": {},
   "outputs": [
    {
     "data": {
      "text/plain": [
       "Index(['dr_no', 'date_reported', 'date_occured', 'time_occured', 'area',\n",
       "       'crime_description', 'victim_age', 'victim_sex', 'victim_descent',\n",
       "       'weapon_description', 'crime_status', 'location'],\n",
       "      dtype='object')"
      ]
     },
     "execution_count": 5,
     "metadata": {},
     "output_type": "execute_result"
    }
   ],
   "source": [
    "columns = {\n",
    "    'DR_NO': 'dr_no',\n",
    "    'Date Rptd': 'date_reported',\n",
    "    'DATE OCC': 'date_occured',\n",
    "    'TIME OCC': 'time_occured',\n",
    "    'AREA NAME': 'area',\n",
    "    'Crm Cd Desc': 'crime_description',\n",
    "    'Mocodes': 'mo_codes',\n",
    "    'Vict Age': 'victim_age',\n",
    "    'Vict Sex': 'victim_sex',\n",
    "    'Vict Descent': 'victim_descent',\n",
    "    'Premis Desc': 'premises_description',\n",
    "    'Weapon Desc': 'weapon_description',\n",
    "    'Status Desc': 'crime_status',\n",
    "    'LOCATION': 'location',\n",
    "    'LAT': 'latitude',\n",
    "    'LON': 'longitude'\n",
    "}\n",
    "crimes.rename(columns=columns, inplace=True)\n",
    "crimes.columns"
   ]
  },
  {
   "cell_type": "markdown",
   "id": "608182f5",
   "metadata": {},
   "source": [
    "##### *Check data types*"
   ]
  },
  {
   "cell_type": "code",
   "execution_count": 15,
   "id": "47c0bc5c-915c-4b08-88c6-50c0bf1007bb",
   "metadata": {},
   "outputs": [
    {
     "data": {
      "text/plain": [
       "dr_no                            int64\n",
       "date_reported           datetime64[ns]\n",
       "date_occured            datetime64[ns]\n",
       "time_occured                    object\n",
       "area                            object\n",
       "crime_description               object\n",
       "mo_codes                        object\n",
       "victim_age                       int64\n",
       "victim_sex                      object\n",
       "victim_descent                  object\n",
       "premises_description            object\n",
       "weapon_description              object\n",
       "crime_status                    object\n",
       "location                        object\n",
       "latitude                       float64\n",
       "longitude                      float64\n",
       "dtype: object"
      ]
     },
     "execution_count": 15,
     "metadata": {},
     "output_type": "execute_result"
    }
   ],
   "source": [
    "crimes.dtypes"
   ]
  },
  {
   "cell_type": "markdown",
   "id": "c59983f6",
   "metadata": {},
   "source": [
    "##### *Check for null values*"
   ]
  },
  {
   "cell_type": "code",
   "execution_count": 16,
   "id": "b4b43583",
   "metadata": {},
   "outputs": [
    {
     "data": {
      "text/plain": [
       "dr_no                        0\n",
       "date_reported                0\n",
       "date_occured                 0\n",
       "time_occured                 0\n",
       "area                         0\n",
       "crime_description            0\n",
       "mo_codes                151705\n",
       "victim_age                   0\n",
       "victim_sex              144729\n",
       "victim_descent          144741\n",
       "premises_description       588\n",
       "weapon_description      677841\n",
       "crime_status                 0\n",
       "location                     0\n",
       "latitude                     0\n",
       "longitude                    0\n",
       "dtype: int64"
      ]
     },
     "execution_count": 16,
     "metadata": {},
     "output_type": "execute_result"
    }
   ],
   "source": [
    "crimes.isnull().sum()"
   ]
  },
  {
   "cell_type": "markdown",
   "id": "ec33d6c6",
   "metadata": {},
   "source": [
    "##### *Check column values*"
   ]
  },
  {
   "cell_type": "markdown",
   "id": "29a32ce0",
   "metadata": {},
   "source": [
    "###### Area names"
   ]
  },
  {
   "cell_type": "code",
   "execution_count": 17,
   "id": "33ab8ea6",
   "metadata": {},
   "outputs": [
    {
     "data": {
      "text/plain": [
       "array(['77th Street', 'Central', 'Devonshire', 'Foothill', 'Harbor',\n",
       "       'Hollenbeck', 'Hollywood', 'Mission', 'N Hollywood', 'Newton',\n",
       "       'Northeast', 'Olympic', 'Pacific', 'Rampart', 'Southeast',\n",
       "       'Southwest', 'Topanga', 'Van Nuys', 'West LA', 'West Valley',\n",
       "       'Wilshire'], dtype=object)"
      ]
     },
     "execution_count": 17,
     "metadata": {},
     "output_type": "execute_result"
    }
   ],
   "source": [
    "np.sort(crimes.area.unique())"
   ]
  },
  {
   "cell_type": "markdown",
   "id": "5712727b",
   "metadata": {},
   "source": [
    "###### Crime description"
   ]
  },
  {
   "cell_type": "code",
   "execution_count": 18,
   "id": "59d6098b",
   "metadata": {},
   "outputs": [],
   "source": [
    "cd = pd.DataFrame(np.sort(crimes.crime_description.unique()), columns=['crime_description'])\n",
    "cd.to_markdown(crime_desc_table_orig, index=False)\n",
    "\n",
    "# Fix comma spacing\n",
    "crimes.crime_description = crimes.crime_description.replace(r', *', ', ', regex=True)\n",
    "\n",
    "# Fix slash spacing\n",
    "crimes.crime_description = crimes.crime_description.replace(r' */ *', '/', regex=True)\n",
    "\n",
    "# Match formatting for grand and petty theft\n",
    "crimes.crime_description = crimes.crime_description.replace('DEFRAUDING INNKEEPER/THEFT OF SERVICES, OVER $950.01', 'DEFRAUDING INNKEEPER/THEFT OF SERVICES ($950.01 & OVER)')\n",
    "\n",
    "crimes.crime_description = crimes.crime_description.replace('DEFRAUDING INNKEEPER/THEFT OF SERVICES, $950 & UNDER', 'DEFRAUDING INNKEEPER/THEFT OF SERVICES ($950 & UNDER)')\n",
    "\n",
    "crimes.crime_description = crimes.crime_description.replace('CREDIT CARDS, FRAUD USE ($950 & UNDER', 'CREDIT CARDS, FRAUD USE ($950 & UNDER)')\n",
    "\n",
    "crimes.crime_description = crimes.crime_description.replace('REPLICA FIREARMS(SALE, DISPLAY, MANUFACTURE OR DISTRIBUTE)', 'REPLICA FIREARMS (SALE, DISPLAY, MANUFACTURE OR DISTRIBUTE)')\n",
    "\n",
    "crimes.crime_description = crimes.crime_description.replace('THEFT-GRAND ($950.01 & OVER)EXCPT, GUNS, FOWL, LIVESTK, PROD', 'THEFT - GRAND ($950.01 & OVER) EXCEPT GUNS, FOWL, LIVESTOCK, PRODUCE')\n",
    "\n",
    "crimes.crime_description = crimes.crime_description.replace('DISHONEST EMPLOYEE ATTEMPTED THEFT', 'DISHONEST EMPLOYEE - ATTEMPTED THEFT')\n",
    "\n",
    "crimes.crime_description = crimes.crime_description.replace('SEX, UNLAWFUL(INC MUTUAL CONSENT, PENETRATION W/FRGN OBJ', 'SEX, UNLAWFUL(INCLUDING MUTUAL CONSENT, PENETRATION W/FOREIGN OBJECT)')\n",
    "\n",
    "crimes.crime_description = crimes.crime_description.replace('SHOPLIFTING-GRAND THEFT ($950.01 & OVER)', 'SHOPLIFTING - GRAND THEFT ($950.01 & OVER)')\n",
    "\n",
    "crimes.crime_description = crimes.crime_description.replace('SODOMY/SEXUAL CONTACT B/W PENIS OF ONE PERS TO ANUS OTH', 'SODOMY/SEXUAL CONTACT BY OR WITH PENIS OF ONE PERSON TO ANUS OF OTHER')\n",
    "\n",
    "cd = pd.DataFrame(np.sort(crimes.crime_description.unique()), columns=['crime_description'])\n",
    "cd.to_markdown(crime_desc_table_new, index=False)"
   ]
  },
  {
   "cell_type": "markdown",
   "id": "b8228e37",
   "metadata": {},
   "source": [
    "###### Victim age"
   ]
  },
  {
   "cell_type": "code",
   "execution_count": 19,
   "id": "2dad0939",
   "metadata": {},
   "outputs": [
    {
     "data": {
      "text/html": [
       "<div>\n",
       "<style scoped>\n",
       "    .dataframe tbody tr th:only-of-type {\n",
       "        vertical-align: middle;\n",
       "    }\n",
       "\n",
       "    .dataframe tbody tr th {\n",
       "        vertical-align: top;\n",
       "    }\n",
       "\n",
       "    .dataframe thead th {\n",
       "        text-align: right;\n",
       "    }\n",
       "</style>\n",
       "<table border=\"1\" class=\"dataframe\">\n",
       "  <thead>\n",
       "    <tr style=\"text-align: right;\">\n",
       "      <th></th>\n",
       "      <th>victim_age</th>\n",
       "      <th>crime_description</th>\n",
       "    </tr>\n",
       "  </thead>\n",
       "  <tbody>\n",
       "    <tr>\n",
       "      <th>7448</th>\n",
       "      <td>-4</td>\n",
       "      <td>BUNCO, GRAND THEFT</td>\n",
       "    </tr>\n",
       "    <tr>\n",
       "      <th>52784</th>\n",
       "      <td>-4</td>\n",
       "      <td>BATTERY ON A FIREFIGHTER</td>\n",
       "    </tr>\n",
       "    <tr>\n",
       "      <th>159279</th>\n",
       "      <td>-4</td>\n",
       "      <td>BUNCO, GRAND THEFT</td>\n",
       "    </tr>\n",
       "    <tr>\n",
       "      <th>31167</th>\n",
       "      <td>-3</td>\n",
       "      <td>THEFT PLAIN - PETTY ($950 &amp; UNDER)</td>\n",
       "    </tr>\n",
       "    <tr>\n",
       "      <th>28070</th>\n",
       "      <td>-3</td>\n",
       "      <td>THEFT OF IDENTITY</td>\n",
       "    </tr>\n",
       "    <tr>\n",
       "      <th>...</th>\n",
       "      <td>...</td>\n",
       "      <td>...</td>\n",
       "    </tr>\n",
       "    <tr>\n",
       "      <th>973965</th>\n",
       "      <td>-1</td>\n",
       "      <td>THEFT PLAIN - PETTY ($950 &amp; UNDER)</td>\n",
       "    </tr>\n",
       "    <tr>\n",
       "      <th>975884</th>\n",
       "      <td>-1</td>\n",
       "      <td>SEX OFFENDER REGISTRANT OUT OF COMPLIANCE</td>\n",
       "    </tr>\n",
       "    <tr>\n",
       "      <th>975934</th>\n",
       "      <td>-1</td>\n",
       "      <td>EMBEZZLEMENT, GRAND THEFT ($950.01 &amp; OVER)</td>\n",
       "    </tr>\n",
       "    <tr>\n",
       "      <th>980745</th>\n",
       "      <td>-1</td>\n",
       "      <td>THEFT PLAIN - PETTY ($950 &amp; UNDER)</td>\n",
       "    </tr>\n",
       "    <tr>\n",
       "      <th>991653</th>\n",
       "      <td>-1</td>\n",
       "      <td>THEFT OF IDENTITY</td>\n",
       "    </tr>\n",
       "  </tbody>\n",
       "</table>\n",
       "<p>136 rows × 2 columns</p>\n",
       "</div>"
      ],
      "text/plain": [
       "        victim_age                           crime_description\n",
       "7448            -4                          BUNCO, GRAND THEFT\n",
       "52784           -4                    BATTERY ON A FIREFIGHTER\n",
       "159279          -4                          BUNCO, GRAND THEFT\n",
       "31167           -3          THEFT PLAIN - PETTY ($950 & UNDER)\n",
       "28070           -3                           THEFT OF IDENTITY\n",
       "...            ...                                         ...\n",
       "973965          -1          THEFT PLAIN - PETTY ($950 & UNDER)\n",
       "975884          -1   SEX OFFENDER REGISTRANT OUT OF COMPLIANCE\n",
       "975934          -1  EMBEZZLEMENT, GRAND THEFT ($950.01 & OVER)\n",
       "980745          -1          THEFT PLAIN - PETTY ($950 & UNDER)\n",
       "991653          -1                           THEFT OF IDENTITY\n",
       "\n",
       "[136 rows x 2 columns]"
      ]
     },
     "execution_count": 19,
     "metadata": {},
     "output_type": "execute_result"
    }
   ],
   "source": [
    "np.sort(crimes.victim_age.unique())\n",
    "crimes.loc[crimes.victim_age < 0, ['victim_age', 'crime_description']].sort_values('victim_age')"
   ]
  },
  {
   "cell_type": "markdown",
   "id": "1b68f0ec",
   "metadata": {},
   "source": [
    "###### Victim sex"
   ]
  },
  {
   "cell_type": "code",
   "execution_count": 20,
   "id": "19924713",
   "metadata": {},
   "outputs": [
    {
     "data": {
      "text/plain": [
       "victim_sex\n",
       "M    403888\n",
       "F    358582\n",
       "X     97777\n",
       "H       114\n",
       "-         1\n",
       "Name: count, dtype: int64"
      ]
     },
     "execution_count": 20,
     "metadata": {},
     "output_type": "execute_result"
    }
   ],
   "source": [
    "pd.DataFrame(crimes.loc[crimes.victim_sex == 'H']).to_markdown(victim_sex_table) # View records visually to search for patterns\n",
    "# crimes.victim_sex = crimes.victim_sex.replace({'M': 'male', 'F': 'female', 'X': 'unknown', 'H': 'unknown_1', '-': 'unknown_2'})\n",
    "crimes.victim_sex.value_counts()"
   ]
  },
  {
   "cell_type": "markdown",
   "id": "08db0ecf",
   "metadata": {},
   "source": [
    "###### Victim descent"
   ]
  },
  {
   "cell_type": "code",
   "execution_count": 11,
   "id": "86ee0a0a",
   "metadata": {},
   "outputs": [
    {
     "data": {
      "text/plain": [
       "victim_descent\n",
       "H    296408\n",
       "W    201443\n",
       "B    135818\n",
       "X    106689\n",
       "O     78009\n",
       "A     21340\n",
       "K      5990\n",
       "F      4838\n",
       "C      4631\n",
       "J      1586\n",
       "V      1195\n",
       "I      1015\n",
       "Z       577\n",
       "P       288\n",
       "U       221\n",
       "D        91\n",
       "L        77\n",
       "G        74\n",
       "S        58\n",
       "-         2\n",
       "Name: count, dtype: int64"
      ]
     },
     "execution_count": 11,
     "metadata": {},
     "output_type": "execute_result"
    }
   ],
   "source": [
    "crimes.victim_descent.value_counts()"
   ]
  },
  {
   "cell_type": "markdown",
   "id": "8524ef50",
   "metadata": {},
   "source": [
    "# Exploratory analysis"
   ]
  },
  {
   "cell_type": "markdown",
   "id": "a03c483e",
   "metadata": {},
   "source": [
    "*Get counts of all unique values in columsn that are not date, time or index*"
   ]
  },
  {
   "cell_type": "code",
   "execution_count": 12,
   "id": "06359a4e",
   "metadata": {},
   "outputs": [
    {
     "data": {
      "text/plain": [
       "area\n",
       "Central        69670\n",
       "77th Street    61758\n",
       "Pacific        59521\n",
       "Southwest      57513\n",
       "Hollywood      52429\n",
       "N Hollywood    51107\n",
       "Olympic        50071\n",
       "Southeast      49936\n",
       "Newton         49177\n",
       "Wilshire       48239\n",
       "Rampart        46825\n",
       "West LA        45731\n",
       "Northeast      42962\n",
       "Van Nuys       42883\n",
       "West Valley    42158\n",
       "Devonshire     41761\n",
       "Harbor         41402\n",
       "Topanga        41375\n",
       "Mission        40352\n",
       "Hollenbeck     37085\n",
       "Foothill       33136\n",
       "Name: count, dtype: int64"
      ]
     },
     "metadata": {},
     "output_type": "display_data"
    },
    {
     "data": {
      "text/plain": [
       "crime_description\n",
       "VEHICLE - STOLEN                                           115239\n",
       "BATTERY - SIMPLE ASSAULT                                    74839\n",
       "BURGLARY FROM VEHICLE                                       63518\n",
       "THEFT OF IDENTITY                                           62539\n",
       "VANDALISM - FELONY ($400 & OVER, ALL CHURCH VANDALISMS)     61092\n",
       "                                                            ...  \n",
       "FIREARMS EMERGENCY PROTECTIVE ORDER (FIREARMS EPO)              5\n",
       "FIREARMS RESTRAINING ORDER (FIREARMS RO)                        4\n",
       "DISHONEST EMPLOYEE - ATTEMPTED THEFT                            4\n",
       "TRAIN WRECKING                                                  1\n",
       "DRUNK ROLL - ATTEMPT                                            1\n",
       "Name: count, Length: 140, dtype: int64"
      ]
     },
     "metadata": {},
     "output_type": "display_data"
    },
    {
     "data": {
      "text/plain": [
       "mo_codes\n",
       "0344                                  42195\n",
       "0329                                  21630\n",
       "1822 0344                             14248\n",
       "0325                                  10278\n",
       "0344 1822                              9840\n",
       "                                      ...  \n",
       "2000 0400 0416 0444 1814 0906             1\n",
       "0602 0329 0554 0913 1402 2004             1\n",
       "0319 0334 0400 0443 1814 2000             1\n",
       "1822 1309 0421 0919 0334 0400             1\n",
       "0342 1309 0334 0302 0421 1312 1822        1\n",
       "Name: count, Length: 310939, dtype: int64"
      ]
     },
     "metadata": {},
     "output_type": "display_data"
    },
    {
     "data": {
      "text/plain": [
       "victim_age\n",
       " 0      269313\n",
       " 30      22289\n",
       " 35      21836\n",
       " 31      21420\n",
       " 29      21345\n",
       "         ...  \n",
       " 98         71\n",
       "-2          28\n",
       "-3           6\n",
       "-4           3\n",
       " 120         1\n",
       "Name: count, Length: 104, dtype: int64"
      ]
     },
     "metadata": {},
     "output_type": "display_data"
    },
    {
     "data": {
      "text/plain": [
       "victim_sex\n",
       "M    403888\n",
       "F    358582\n",
       "X     97777\n",
       "H       114\n",
       "-         1\n",
       "Name: count, dtype: int64"
      ]
     },
     "metadata": {},
     "output_type": "display_data"
    },
    {
     "data": {
      "text/plain": [
       "victim_descent\n",
       "H    296408\n",
       "W    201443\n",
       "B    135818\n",
       "X    106689\n",
       "O     78009\n",
       "A     21340\n",
       "K      5990\n",
       "F      4838\n",
       "C      4631\n",
       "J      1586\n",
       "V      1195\n",
       "I      1015\n",
       "Z       577\n",
       "P       288\n",
       "U       221\n",
       "D        91\n",
       "L        77\n",
       "G        74\n",
       "S        58\n",
       "-         2\n",
       "Name: count, dtype: int64"
      ]
     },
     "metadata": {},
     "output_type": "display_data"
    },
    {
     "data": {
      "text/plain": [
       "premises_description\n",
       "STREET                                          261348\n",
       "SINGLE FAMILY DWELLING                          163658\n",
       "MULTI-UNIT DWELLING (APARTMENT, DUPLEX, ETC)    119012\n",
       "PARKING LOT                                      69154\n",
       "OTHER BUSINESS                                   47648\n",
       "                                                 ...  \n",
       "DEPT OF DEFENSE FACILITY                             2\n",
       "MTA - SILVER LINE - DOWNTOWN STREET STOPS            2\n",
       "HORSE RACING/SANTA ANITA PARK*                       2\n",
       "MTA - SILVER LINE - LAC/USC MEDICAL CENTER           2\n",
       "TRAM/STREETCAR(BOXLIKE WAG ON RAILS)*                1\n",
       "Name: count, Length: 306, dtype: int64"
      ]
     },
     "metadata": {},
     "output_type": "display_data"
    },
    {
     "data": {
      "text/plain": [
       "weapon_description\n",
       "STRONG-ARM (HANDS, FIST, FEET OR BODILY FORCE)    174764\n",
       "UNKNOWN WEAPON/OTHER WEAPON                        36390\n",
       "VERBAL THREAT                                      23846\n",
       "HAND GUN                                           20182\n",
       "SEMI-AUTOMATIC PISTOL                               7267\n",
       "                                                   ...  \n",
       "MAC-11 SEMIAUTOMATIC ASSAULT WEAPON                    3\n",
       "HECKLER & KOCH 91 SEMIAUTOMATIC ASSAULT RIFLE          2\n",
       "M-14 SEMIAUTOMATIC ASSAULT RIFLE                       2\n",
       "MAC-10 SEMIAUTOMATIC ASSAULT WEAPON                    2\n",
       "M1-1 SEMIAUTOMATIC ASSAULT RIFLE                       1\n",
       "Name: count, Length: 79, dtype: int64"
      ]
     },
     "metadata": {},
     "output_type": "display_data"
    },
    {
     "data": {
      "text/plain": [
       "crime_status\n",
       "Invest Cont     803306\n",
       "Adult Other     109603\n",
       "Adult Arrest     87031\n",
       "Juv Arrest        3271\n",
       "Juv Other         1873\n",
       "UNK                  7\n",
       "Name: count, dtype: int64"
      ]
     },
     "metadata": {},
     "output_type": "display_data"
    },
    {
     "data": {
      "text/plain": [
       "location\n",
       "800 N  ALAMEDA                      ST      2598\n",
       "700 S  FIGUEROA                     ST      1711\n",
       "100    THE GROVE                    DR      1688\n",
       "10200    SANTA MONICA                 BL    1657\n",
       "6TH                          ST             1585\n",
       "                                            ... \n",
       "LOMA VERDE                   ST                1\n",
       "4500    FORMAN                       AV        1\n",
       "13700    AMANDA                       LN       1\n",
       "LORD                         ST                1\n",
       "21000    SAN JOSE                     ST       1\n",
       "Name: count, Length: 66566, dtype: int64"
      ]
     },
     "metadata": {},
     "output_type": "display_data"
    },
    {
     "data": {
      "text/plain": [
       "latitude\n",
       "34.1016    5705\n",
       "34.2012    4506\n",
       "34.0980    4265\n",
       "34.1939    3544\n",
       "34.1867    3299\n",
       "           ... \n",
       "33.8628       1\n",
       "33.7498       1\n",
       "34.3260       1\n",
       "33.7661       1\n",
       "33.8366       1\n",
       "Name: count, Length: 5426, dtype: int64"
      ]
     },
     "metadata": {},
     "output_type": "display_data"
    },
    {
     "data": {
      "text/plain": [
       "longitude\n",
       "-118.2739    7550\n",
       "-118.2827    6434\n",
       "-118.2915    4297\n",
       "-118.2652    4257\n",
       "-118.2871    3923\n",
       "             ... \n",
       "-118.6586       1\n",
       "-118.6317       1\n",
       "-118.1663       1\n",
       "-118.1594       1\n",
       "-118.6024       1\n",
       "Name: count, Length: 4982, dtype: int64"
      ]
     },
     "metadata": {},
     "output_type": "display_data"
    }
   ],
   "source": [
    "for col in columns.values():\n",
    "    if not re.search('date|time|dr_no', col):\n",
    "        display(crimes[col].value_counts())"
   ]
  },
  {
   "cell_type": "markdown",
   "id": "3a5b6d07-18e9-4824-b09e-ead09068b08f",
   "metadata": {},
   "source": [
    "## Finding the frequencies of crimes by the hour of occurrence"
   ]
  },
  {
   "cell_type": "code",
   "execution_count": 13,
   "id": "8819a2fa-93f9-44bc-9a84-59bba62c0a9e",
   "metadata": {
    "executionCancelledAt": null,
    "executionTime": 434,
    "lastExecutedAt": 1694637748775,
    "lastScheduledRunId": null,
    "lastSuccessfullyExecutedCode": "hours = crimes.loc[:, 'TIME OCC'].str[:2].astype(int)\ncrimes['HOUR OCC'] = hours\nsns.histplot(hours)\nplt.show()\npeak_crime_hour = 12\nprint(f'Peak crime hour: {peak_crime_hour}')",
    "outputsMetadata": {
     "0": {
      "height": 563,
      "type": "stream"
     },
     "1": {
      "height": 38,
      "type": "stream"
     }
    }
   },
   "outputs": [
    {
     "ename": "KeyError",
     "evalue": "'TIME OCC'",
     "output_type": "error",
     "traceback": [
      "\u001b[31m---------------------------------------------------------------------------\u001b[39m",
      "\u001b[31mKeyError\u001b[39m                                  Traceback (most recent call last)",
      "\u001b[36mFile \u001b[39m\u001b[32md:\\NextCloud\\data science\\projects\\.venv\\Lib\\site-packages\\pandas\\core\\indexes\\base.py:3812\u001b[39m, in \u001b[36mIndex.get_loc\u001b[39m\u001b[34m(self, key)\u001b[39m\n\u001b[32m   3811\u001b[39m \u001b[38;5;28;01mtry\u001b[39;00m:\n\u001b[32m-> \u001b[39m\u001b[32m3812\u001b[39m     \u001b[38;5;28;01mreturn\u001b[39;00m \u001b[38;5;28;43mself\u001b[39;49m\u001b[43m.\u001b[49m\u001b[43m_engine\u001b[49m\u001b[43m.\u001b[49m\u001b[43mget_loc\u001b[49m\u001b[43m(\u001b[49m\u001b[43mcasted_key\u001b[49m\u001b[43m)\u001b[49m\n\u001b[32m   3813\u001b[39m \u001b[38;5;28;01mexcept\u001b[39;00m \u001b[38;5;167;01mKeyError\u001b[39;00m \u001b[38;5;28;01mas\u001b[39;00m err:\n",
      "\u001b[36mFile \u001b[39m\u001b[32mpandas/_libs/index.pyx:167\u001b[39m, in \u001b[36mpandas._libs.index.IndexEngine.get_loc\u001b[39m\u001b[34m()\u001b[39m\n",
      "\u001b[36mFile \u001b[39m\u001b[32mpandas/_libs/index.pyx:196\u001b[39m, in \u001b[36mpandas._libs.index.IndexEngine.get_loc\u001b[39m\u001b[34m()\u001b[39m\n",
      "\u001b[36mFile \u001b[39m\u001b[32mpandas/_libs/hashtable_class_helper.pxi:7088\u001b[39m, in \u001b[36mpandas._libs.hashtable.PyObjectHashTable.get_item\u001b[39m\u001b[34m()\u001b[39m\n",
      "\u001b[36mFile \u001b[39m\u001b[32mpandas/_libs/hashtable_class_helper.pxi:7096\u001b[39m, in \u001b[36mpandas._libs.hashtable.PyObjectHashTable.get_item\u001b[39m\u001b[34m()\u001b[39m\n",
      "\u001b[31mKeyError\u001b[39m: 'TIME OCC'",
      "\nThe above exception was the direct cause of the following exception:\n",
      "\u001b[31mKeyError\u001b[39m                                  Traceback (most recent call last)",
      "\u001b[36mCell\u001b[39m\u001b[36m \u001b[39m\u001b[32mIn[13]\u001b[39m\u001b[32m, line 1\u001b[39m\n\u001b[32m----> \u001b[39m\u001b[32m1\u001b[39m hours = \u001b[43mcrimes\u001b[49m\u001b[43m.\u001b[49m\u001b[43mloc\u001b[49m\u001b[43m[\u001b[49m\u001b[43m:\u001b[49m\u001b[43m,\u001b[49m\u001b[43m \u001b[49m\u001b[33;43m'\u001b[39;49m\u001b[33;43mTIME OCC\u001b[39;49m\u001b[33;43m'\u001b[39;49m\u001b[43m]\u001b[49m.str[:\u001b[32m2\u001b[39m].astype(\u001b[38;5;28mint\u001b[39m)\n\u001b[32m      2\u001b[39m crimes[\u001b[33m'\u001b[39m\u001b[33mHOUR OCC\u001b[39m\u001b[33m'\u001b[39m] = hours\n\u001b[32m      3\u001b[39m sns.histplot(hours)\n",
      "\u001b[36mFile \u001b[39m\u001b[32md:\\NextCloud\\data science\\projects\\.venv\\Lib\\site-packages\\pandas\\core\\indexing.py:1184\u001b[39m, in \u001b[36m_LocationIndexer.__getitem__\u001b[39m\u001b[34m(self, key)\u001b[39m\n\u001b[32m   1182\u001b[39m     \u001b[38;5;28;01mif\u001b[39;00m \u001b[38;5;28mself\u001b[39m._is_scalar_access(key):\n\u001b[32m   1183\u001b[39m         \u001b[38;5;28;01mreturn\u001b[39;00m \u001b[38;5;28mself\u001b[39m.obj._get_value(*key, takeable=\u001b[38;5;28mself\u001b[39m._takeable)\n\u001b[32m-> \u001b[39m\u001b[32m1184\u001b[39m     \u001b[38;5;28;01mreturn\u001b[39;00m \u001b[38;5;28;43mself\u001b[39;49m\u001b[43m.\u001b[49m\u001b[43m_getitem_tuple\u001b[49m\u001b[43m(\u001b[49m\u001b[43mkey\u001b[49m\u001b[43m)\u001b[49m\n\u001b[32m   1185\u001b[39m \u001b[38;5;28;01melse\u001b[39;00m:\n\u001b[32m   1186\u001b[39m     \u001b[38;5;66;03m# we by definition only have the 0th axis\u001b[39;00m\n\u001b[32m   1187\u001b[39m     axis = \u001b[38;5;28mself\u001b[39m.axis \u001b[38;5;129;01mor\u001b[39;00m \u001b[32m0\u001b[39m\n",
      "\u001b[36mFile \u001b[39m\u001b[32md:\\NextCloud\\data science\\projects\\.venv\\Lib\\site-packages\\pandas\\core\\indexing.py:1368\u001b[39m, in \u001b[36m_LocIndexer._getitem_tuple\u001b[39m\u001b[34m(self, tup)\u001b[39m\n\u001b[32m   1366\u001b[39m \u001b[38;5;28;01mwith\u001b[39;00m suppress(IndexingError):\n\u001b[32m   1367\u001b[39m     tup = \u001b[38;5;28mself\u001b[39m._expand_ellipsis(tup)\n\u001b[32m-> \u001b[39m\u001b[32m1368\u001b[39m     \u001b[38;5;28;01mreturn\u001b[39;00m \u001b[38;5;28;43mself\u001b[39;49m\u001b[43m.\u001b[49m\u001b[43m_getitem_lowerdim\u001b[49m\u001b[43m(\u001b[49m\u001b[43mtup\u001b[49m\u001b[43m)\u001b[49m\n\u001b[32m   1370\u001b[39m \u001b[38;5;66;03m# no multi-index, so validate all of the indexers\u001b[39;00m\n\u001b[32m   1371\u001b[39m tup = \u001b[38;5;28mself\u001b[39m._validate_tuple_indexer(tup)\n",
      "\u001b[36mFile \u001b[39m\u001b[32md:\\NextCloud\\data science\\projects\\.venv\\Lib\\site-packages\\pandas\\core\\indexing.py:1065\u001b[39m, in \u001b[36m_LocationIndexer._getitem_lowerdim\u001b[39m\u001b[34m(self, tup)\u001b[39m\n\u001b[32m   1061\u001b[39m \u001b[38;5;28;01mfor\u001b[39;00m i, key \u001b[38;5;129;01min\u001b[39;00m \u001b[38;5;28menumerate\u001b[39m(tup):\n\u001b[32m   1062\u001b[39m     \u001b[38;5;28;01mif\u001b[39;00m is_label_like(key):\n\u001b[32m   1063\u001b[39m         \u001b[38;5;66;03m# We don't need to check for tuples here because those are\u001b[39;00m\n\u001b[32m   1064\u001b[39m         \u001b[38;5;66;03m#  caught by the _is_nested_tuple_indexer check above.\u001b[39;00m\n\u001b[32m-> \u001b[39m\u001b[32m1065\u001b[39m         section = \u001b[38;5;28;43mself\u001b[39;49m\u001b[43m.\u001b[49m\u001b[43m_getitem_axis\u001b[49m\u001b[43m(\u001b[49m\u001b[43mkey\u001b[49m\u001b[43m,\u001b[49m\u001b[43m \u001b[49m\u001b[43maxis\u001b[49m\u001b[43m=\u001b[49m\u001b[43mi\u001b[49m\u001b[43m)\u001b[49m\n\u001b[32m   1067\u001b[39m         \u001b[38;5;66;03m# We should never have a scalar section here, because\u001b[39;00m\n\u001b[32m   1068\u001b[39m         \u001b[38;5;66;03m#  _getitem_lowerdim is only called after a check for\u001b[39;00m\n\u001b[32m   1069\u001b[39m         \u001b[38;5;66;03m#  is_scalar_access, which that would be.\u001b[39;00m\n\u001b[32m   1070\u001b[39m         \u001b[38;5;28;01mif\u001b[39;00m section.ndim == \u001b[38;5;28mself\u001b[39m.ndim:\n\u001b[32m   1071\u001b[39m             \u001b[38;5;66;03m# we're in the middle of slicing through a MultiIndex\u001b[39;00m\n\u001b[32m   1072\u001b[39m             \u001b[38;5;66;03m# revise the key wrt to `section` by inserting an _NS\u001b[39;00m\n",
      "\u001b[36mFile \u001b[39m\u001b[32md:\\NextCloud\\data science\\projects\\.venv\\Lib\\site-packages\\pandas\\core\\indexing.py:1431\u001b[39m, in \u001b[36m_LocIndexer._getitem_axis\u001b[39m\u001b[34m(self, key, axis)\u001b[39m\n\u001b[32m   1429\u001b[39m \u001b[38;5;66;03m# fall thru to straight lookup\u001b[39;00m\n\u001b[32m   1430\u001b[39m \u001b[38;5;28mself\u001b[39m._validate_key(key, axis)\n\u001b[32m-> \u001b[39m\u001b[32m1431\u001b[39m \u001b[38;5;28;01mreturn\u001b[39;00m \u001b[38;5;28;43mself\u001b[39;49m\u001b[43m.\u001b[49m\u001b[43m_get_label\u001b[49m\u001b[43m(\u001b[49m\u001b[43mkey\u001b[49m\u001b[43m,\u001b[49m\u001b[43m \u001b[49m\u001b[43maxis\u001b[49m\u001b[43m=\u001b[49m\u001b[43maxis\u001b[49m\u001b[43m)\u001b[49m\n",
      "\u001b[36mFile \u001b[39m\u001b[32md:\\NextCloud\\data science\\projects\\.venv\\Lib\\site-packages\\pandas\\core\\indexing.py:1381\u001b[39m, in \u001b[36m_LocIndexer._get_label\u001b[39m\u001b[34m(self, label, axis)\u001b[39m\n\u001b[32m   1379\u001b[39m \u001b[38;5;28;01mdef\u001b[39;00m\u001b[38;5;250m \u001b[39m\u001b[34m_get_label\u001b[39m(\u001b[38;5;28mself\u001b[39m, label, axis: AxisInt):\n\u001b[32m   1380\u001b[39m     \u001b[38;5;66;03m# GH#5567 this will fail if the label is not present in the axis.\u001b[39;00m\n\u001b[32m-> \u001b[39m\u001b[32m1381\u001b[39m     \u001b[38;5;28;01mreturn\u001b[39;00m \u001b[38;5;28;43mself\u001b[39;49m\u001b[43m.\u001b[49m\u001b[43mobj\u001b[49m\u001b[43m.\u001b[49m\u001b[43mxs\u001b[49m\u001b[43m(\u001b[49m\u001b[43mlabel\u001b[49m\u001b[43m,\u001b[49m\u001b[43m \u001b[49m\u001b[43maxis\u001b[49m\u001b[43m=\u001b[49m\u001b[43maxis\u001b[49m\u001b[43m)\u001b[49m\n",
      "\u001b[36mFile \u001b[39m\u001b[32md:\\NextCloud\\data science\\projects\\.venv\\Lib\\site-packages\\pandas\\core\\generic.py:4306\u001b[39m, in \u001b[36mNDFrame.xs\u001b[39m\u001b[34m(self, key, axis, level, drop_level)\u001b[39m\n\u001b[32m   4304\u001b[39m \u001b[38;5;28;01mif\u001b[39;00m axis == \u001b[32m1\u001b[39m:\n\u001b[32m   4305\u001b[39m     \u001b[38;5;28;01mif\u001b[39;00m drop_level:\n\u001b[32m-> \u001b[39m\u001b[32m4306\u001b[39m         \u001b[38;5;28;01mreturn\u001b[39;00m \u001b[38;5;28;43mself\u001b[39;49m\u001b[43m[\u001b[49m\u001b[43mkey\u001b[49m\u001b[43m]\u001b[49m\n\u001b[32m   4307\u001b[39m     index = \u001b[38;5;28mself\u001b[39m.columns\n\u001b[32m   4308\u001b[39m \u001b[38;5;28;01melse\u001b[39;00m:\n",
      "\u001b[36mFile \u001b[39m\u001b[32md:\\NextCloud\\data science\\projects\\.venv\\Lib\\site-packages\\pandas\\core\\frame.py:4107\u001b[39m, in \u001b[36mDataFrame.__getitem__\u001b[39m\u001b[34m(self, key)\u001b[39m\n\u001b[32m   4105\u001b[39m \u001b[38;5;28;01mif\u001b[39;00m \u001b[38;5;28mself\u001b[39m.columns.nlevels > \u001b[32m1\u001b[39m:\n\u001b[32m   4106\u001b[39m     \u001b[38;5;28;01mreturn\u001b[39;00m \u001b[38;5;28mself\u001b[39m._getitem_multilevel(key)\n\u001b[32m-> \u001b[39m\u001b[32m4107\u001b[39m indexer = \u001b[38;5;28;43mself\u001b[39;49m\u001b[43m.\u001b[49m\u001b[43mcolumns\u001b[49m\u001b[43m.\u001b[49m\u001b[43mget_loc\u001b[49m\u001b[43m(\u001b[49m\u001b[43mkey\u001b[49m\u001b[43m)\u001b[49m\n\u001b[32m   4108\u001b[39m \u001b[38;5;28;01mif\u001b[39;00m is_integer(indexer):\n\u001b[32m   4109\u001b[39m     indexer = [indexer]\n",
      "\u001b[36mFile \u001b[39m\u001b[32md:\\NextCloud\\data science\\projects\\.venv\\Lib\\site-packages\\pandas\\core\\indexes\\base.py:3819\u001b[39m, in \u001b[36mIndex.get_loc\u001b[39m\u001b[34m(self, key)\u001b[39m\n\u001b[32m   3814\u001b[39m     \u001b[38;5;28;01mif\u001b[39;00m \u001b[38;5;28misinstance\u001b[39m(casted_key, \u001b[38;5;28mslice\u001b[39m) \u001b[38;5;129;01mor\u001b[39;00m (\n\u001b[32m   3815\u001b[39m         \u001b[38;5;28misinstance\u001b[39m(casted_key, abc.Iterable)\n\u001b[32m   3816\u001b[39m         \u001b[38;5;129;01mand\u001b[39;00m \u001b[38;5;28many\u001b[39m(\u001b[38;5;28misinstance\u001b[39m(x, \u001b[38;5;28mslice\u001b[39m) \u001b[38;5;28;01mfor\u001b[39;00m x \u001b[38;5;129;01min\u001b[39;00m casted_key)\n\u001b[32m   3817\u001b[39m     ):\n\u001b[32m   3818\u001b[39m         \u001b[38;5;28;01mraise\u001b[39;00m InvalidIndexError(key)\n\u001b[32m-> \u001b[39m\u001b[32m3819\u001b[39m     \u001b[38;5;28;01mraise\u001b[39;00m \u001b[38;5;167;01mKeyError\u001b[39;00m(key) \u001b[38;5;28;01mfrom\u001b[39;00m\u001b[38;5;250m \u001b[39m\u001b[34;01merr\u001b[39;00m\n\u001b[32m   3820\u001b[39m \u001b[38;5;28;01mexcept\u001b[39;00m \u001b[38;5;167;01mTypeError\u001b[39;00m:\n\u001b[32m   3821\u001b[39m     \u001b[38;5;66;03m# If we have a listlike key, _check_indexing_error will raise\u001b[39;00m\n\u001b[32m   3822\u001b[39m     \u001b[38;5;66;03m#  InvalidIndexError. Otherwise we fall through and re-raise\u001b[39;00m\n\u001b[32m   3823\u001b[39m     \u001b[38;5;66;03m#  the TypeError.\u001b[39;00m\n\u001b[32m   3824\u001b[39m     \u001b[38;5;28mself\u001b[39m._check_indexing_error(key)\n",
      "\u001b[31mKeyError\u001b[39m: 'TIME OCC'"
     ]
    }
   ],
   "source": [
    "hours = crimes.loc[:, 'TIME OCC'].str[:2].astype(int)\n",
    "crimes['HOUR OCC'] = hours\n",
    "sns.histplot(hours)\n",
    "plt.show()\n",
    "peak_crime_hour = 12\n",
    "print(f'Peak crime hour: {peak_crime_hour}')"
   ]
  },
  {
   "cell_type": "markdown",
   "id": "c08bbb2f-f162-4300-84c4-15afa9f87558",
   "metadata": {},
   "source": [
    "## Identifying the area with the most night crime"
   ]
  },
  {
   "cell_type": "code",
   "execution_count": null,
   "id": "e8f50832-4508-4afd-83e6-5c3845132e0b",
   "metadata": {
    "executionCancelledAt": null,
    "executionTime": 312,
    "lastExecutedAt": 1694637749087,
    "lastScheduledRunId": null,
    "lastSuccessfullyExecutedCode": "hr_ranges = [x for x in range(4)] + [y for y in range(22, 24)]\nnight_crimes = crimes[crimes['HOUR OCC'].isin(hr_ranges)]\nnight_crimes\nsns.histplot(night_crimes['AREA NAME'])\nplt.xticks(rotation=90)\nplt.show()\nnight_crime_counts = night_crimes['AREA NAME'].value_counts()\npeak_night_crime_location = 'Central'\nprint(f'Peak night crime location: {peak_night_crime_location}')",
    "outputsMetadata": {
     "1": {
      "height": 38,
      "type": "stream"
     }
    }
   },
   "outputs": [
    {
     "data": {
      "image/png": "[encoded data removed]",
      "text/plain": [
       "<Figure size 640x480 with 1 Axes>"
      ]
     },
     "metadata": {},
     "output_type": "display_data"
    },
    {
     "name": "stdout",
     "output_type": "stream",
     "text": [
      "Peak night crime location: Central\n"
     ]
    }
   ],
   "source": [
    "hr_ranges = [x for x in range(4)] + [y for y in range(22, 24)]\n",
    "night_crimes = crimes[crimes['HOUR OCC'].isin(hr_ranges)]\n",
    "night_crimes\n",
    "sns.histplot(night_crimes['AREA NAME'])\n",
    "plt.xticks(rotation=90)\n",
    "plt.show()\n",
    "night_crime_counts = night_crimes['AREA NAME'].value_counts()\n",
    "peak_night_crime_location = 'Central'\n",
    "print(f'Peak night crime location: {peak_night_crime_location}')"
   ]
  },
  {
   "cell_type": "markdown",
   "id": "379a33c9-0d3d-4154-abe9-8a07ce75294b",
   "metadata": {},
   "source": [
    "## Crimes by age group"
   ]
  },
  {
   "cell_type": "code",
   "execution_count": null,
   "id": "90bf5d16-f3e7-4b6d-8ebf-1cc39bd7a8ae",
   "metadata": {
    "chartConfig": {
     "bar": {
      "hasRoundedCorners": true,
      "stacked": false
     },
     "type": "bar",
     "version": "v1"
    },
    "collapsed": false,
    "executionCancelledAt": null,
    "executionTime": 51,
    "jupyter": {
     "outputs_hidden": false,
     "source_hidden": false
    },
    "lastExecutedAt": 1694637818980,
    "lastScheduledRunId": null,
    "lastSuccessfullyExecutedCode": "labels=['<18', '18-25', '26-34', '35-44', '45-54', '55-64', '65+']\nbins = [0, 17, 25, 34, 44, 54, 64, np.inf]\ncrimes['AGE GROUP'] = pd.cut(crimes['Vict Age'], bins=bins, labels=labels)\nvictim_ages = crimes['AGE GROUP'].value_counts()\nfor i in victim_ages.index:\n    print(f'Number of victims aged {i}: {victim_ages[i]}')",
    "outputsMetadata": {
     "0": {
      "height": 164,
      "type": "stream"
     }
    },
    "version": "ag-charts-v1",
    "visualizeDataframe": false
   },
   "outputs": [
    {
     "name": "stdout",
     "output_type": "stream",
     "text": [
      "Number of victims aged 26-34: 47470\n",
      "Number of victims aged 35-44: 42157\n",
      "Number of victims aged 45-54: 28353\n",
      "Number of victims aged 18-25: 28291\n",
      "Number of victims aged 55-64: 20169\n",
      "Number of victims aged 65+: 14747\n",
      "Number of victims aged <18: 4528\n"
     ]
    }
   ],
   "source": [
    "labels=['<18', '18-25', '26-34', '35-44', '45-54', '55-64', '65+']\n",
    "bins = [0, 17, 25, 34, 44, 54, 64, np.inf]\n",
    "crimes['AGE GROUP'] = pd.cut(crimes['Vict Age'], bins=bins, labels=labels)\n",
    "victim_ages = crimes['AGE GROUP'].value_counts()\n",
    "for i in victim_ages.index:\n",
    "    print(f'Number of victims aged {i}: {victim_ages[i]}')"
   ]
  }
 ],
 "metadata": {
  "colab": {
   "name": "Welcome to DataCamp Workspaces.ipynb",
   "provenance": []
  },
  "kernelspec": {
   "display_name": "python3.12",
   "language": "python",
   "name": "python3"
  },
  "language_info": {
   "codemirror_mode": {
    "name": "ipython",
    "version": 3
   },
   "file_extension": ".py",
   "mimetype": "text/x-python",
   "name": "python",
   "nbconvert_exporter": "python",
   "pygments_lexer": "ipython3",
   "version": "3.12.11"
  }
 },
 "nbformat": 4,
 "nbformat_minor": 5
}
